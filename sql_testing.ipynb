{
 "cells": [
  {
   "cell_type": "code",
   "execution_count": 32,
   "metadata": {},
   "outputs": [],
   "source": [
    "import pandas as pd\n",
    "import numpy as np\n",
    "import sqlite3"
   ]
  },
  {
   "cell_type": "code",
   "execution_count": 33,
   "metadata": {},
   "outputs": [],
   "source": [
    "df = pd.read_csv(\"chick_fil_a_locations_data.csv\")"
   ]
  },
  {
   "cell_type": "code",
   "execution_count": 34,
   "metadata": {},
   "outputs": [],
   "source": [
    "con = sqlite3.connect(\"Data_engineer.db\")"
   ]
  },
  {
   "cell_type": "code",
   "execution_count": 35,
   "metadata": {},
   "outputs": [],
   "source": [
    "def create_table(connection, table_schema):\n",
    "    cur = connection.cursor()\n",
    "    cur.execute(table_schema)"
   ]
  },
  {
   "cell_type": "code",
   "execution_count": 36,
   "metadata": {},
   "outputs": [],
   "source": [
    "def insert_data(connection, table_name, data_frame):\n",
    "    data_frame.to_sql(name=table_name, con=connection, if_exists=\"replace\", index=False)\n",
    "    connection.commit()"
   ]
  },
  {
   "cell_type": "code",
   "execution_count": 37,
   "metadata": {},
   "outputs": [],
   "source": [
    "location_table = \"CREATE TABLE locations ('address text', 'city text', 'State text', 'zip code text', 'telephone text');\""
   ]
  },
  {
   "cell_type": "code",
   "execution_count": null,
   "metadata": {},
   "outputs": [],
   "source": []
  },
  {
   "cell_type": "code",
   "execution_count": 38,
   "metadata": {},
   "outputs": [],
   "source": [
    "create_table(con, location_table)"
   ]
  },
  {
   "cell_type": "code",
   "execution_count": 39,
   "metadata": {},
   "outputs": [],
   "source": [
    "insert_data(con, \"locations\", df)"
   ]
  },
  {
   "cell_type": "code",
   "execution_count": 40,
   "metadata": {},
   "outputs": [],
   "source": [
    "df2 = pd.read_csv(\"accommodation_food_service.csv\")"
   ]
  },
  {
   "cell_type": "code",
   "execution_count": 41,
   "metadata": {},
   "outputs": [],
   "source": [
    "insert_data(con, \"accomodation_and_food\", df2)"
   ]
  },
  {
   "cell_type": "code",
   "execution_count": 42,
   "metadata": {},
   "outputs": [],
   "source": [
    "cur = con.cursor()"
   ]
  },
  {
   "cell_type": "code",
   "execution_count": null,
   "metadata": {},
   "outputs": [],
   "source": []
  },
  {
   "cell_type": "code",
   "execution_count": 66,
   "metadata": {},
   "outputs": [],
   "source": [
    "food_accomadation_query = \"\"\"\n",
    "SELECT zipcode, \n",
    "\tcity, \n",
    "\tstates, \n",
    "\tSUM(revenue) as revenue_per_zipcode, \n",
    "\tSUM(num_of_establishments) as national_num_esta \n",
    "FROM accomodation_and_food \n",
    "GROUP by  zipcode, city, states\n",
    "\"\"\""
   ]
  },
  {
   "cell_type": "code",
   "execution_count": 67,
   "metadata": {},
   "outputs": [],
   "source": [
    "food_acc_data_by_zip = pd.read_sql_query(food_accomadation_query, con=con)"
   ]
  },
  {
   "cell_type": "code",
   "execution_count": 68,
   "metadata": {},
   "outputs": [],
   "source": [
    "food_acc_data_by_zip.to_csv(\"food_acc_data_by_zip\" + \".csv\")"
   ]
  },
  {
   "cell_type": "code",
   "execution_count": 69,
   "metadata": {},
   "outputs": [],
   "source": [
    "cfa_location_query = \"\"\"\n",
    "SELECT [zip code], city, State,\n",
    "COUNT(*) AS cfa_stores_per_zip \n",
    "FROM locations\n",
    "WHERE  [zip code] NOTNULL\n",
    "GROUP by  [zip code], city, State \n",
    "\"\"\""
   ]
  },
  {
   "cell_type": "code",
   "execution_count": 70,
   "metadata": {},
   "outputs": [],
   "source": [
    "cfa_locations_by_zip = pd.read_sql_query(cfa_location_query, con=con)"
   ]
  },
  {
   "cell_type": "code",
   "execution_count": 71,
   "metadata": {},
   "outputs": [],
   "source": [
    "cfa_locations_by_zip.to_csv(\"cfa_locations_by_zip\" + \".csv\")"
   ]
  },
  {
   "cell_type": "markdown",
   "metadata": {},
   "source": [
    "## top 10 zip codes by revenue "
   ]
  },
  {
   "cell_type": "code",
   "execution_count": 63,
   "metadata": {},
   "outputs": [],
   "source": [
    "top_10_revenue_query = \"\"\"\n",
    "SELECT zipcode,city, sum(revenue) as revenue_per_zip \n",
    "from accomodation_and_food\n",
    "GROUP BY zipcode, city\n",
    "HAVING sum(revenue) >= 10000\n",
    "ORDER by revenue_per_zip DESC limit 10\n",
    "\"\"\""
   ]
  },
  {
   "cell_type": "code",
   "execution_count": 65,
   "metadata": {},
   "outputs": [
    {
     "data": {
      "text/html": [
       "<div>\n",
       "<style scoped>\n",
       "    .dataframe tbody tr th:only-of-type {\n",
       "        vertical-align: middle;\n",
       "    }\n",
       "\n",
       "    .dataframe tbody tr th {\n",
       "        vertical-align: top;\n",
       "    }\n",
       "\n",
       "    .dataframe thead th {\n",
       "        text-align: right;\n",
       "    }\n",
       "</style>\n",
       "<table border=\"1\" class=\"dataframe\">\n",
       "  <thead>\n",
       "    <tr style=\"text-align: right;\">\n",
       "      <th></th>\n",
       "      <th>zipcode</th>\n",
       "      <th>city</th>\n",
       "      <th>revenue_per_zip</th>\n",
       "    </tr>\n",
       "  </thead>\n",
       "  <tbody>\n",
       "    <tr>\n",
       "      <th>0</th>\n",
       "      <td>14850</td>\n",
       "      <td>ITHACA</td>\n",
       "      <td>37582</td>\n",
       "    </tr>\n",
       "    <tr>\n",
       "      <th>1</th>\n",
       "      <td>8204</td>\n",
       "      <td>CAPE MAY</td>\n",
       "      <td>37423</td>\n",
       "    </tr>\n",
       "    <tr>\n",
       "      <th>2</th>\n",
       "      <td>94103</td>\n",
       "      <td>SAN FRANCISCO</td>\n",
       "      <td>36851</td>\n",
       "    </tr>\n",
       "    <tr>\n",
       "      <th>3</th>\n",
       "      <td>78666</td>\n",
       "      <td>SAN MARCOS</td>\n",
       "      <td>35747</td>\n",
       "    </tr>\n",
       "    <tr>\n",
       "      <th>4</th>\n",
       "      <td>78130</td>\n",
       "      <td>NEW BRAUNFELS</td>\n",
       "      <td>35596</td>\n",
       "    </tr>\n",
       "    <tr>\n",
       "      <th>5</th>\n",
       "      <td>2657</td>\n",
       "      <td>PROVINCETOWN</td>\n",
       "      <td>34951</td>\n",
       "    </tr>\n",
       "    <tr>\n",
       "      <th>6</th>\n",
       "      <td>2360</td>\n",
       "      <td>PLYMOUTH</td>\n",
       "      <td>34093</td>\n",
       "    </tr>\n",
       "    <tr>\n",
       "      <th>7</th>\n",
       "      <td>92101</td>\n",
       "      <td>SAN DIEGO</td>\n",
       "      <td>33530</td>\n",
       "    </tr>\n",
       "    <tr>\n",
       "      <th>8</th>\n",
       "      <td>7102</td>\n",
       "      <td>NEWARK</td>\n",
       "      <td>33437</td>\n",
       "    </tr>\n",
       "    <tr>\n",
       "      <th>9</th>\n",
       "      <td>99501</td>\n",
       "      <td>ANCHORAGE</td>\n",
       "      <td>33384</td>\n",
       "    </tr>\n",
       "  </tbody>\n",
       "</table>\n",
       "</div>"
      ],
      "text/plain": [
       "   zipcode           city  revenue_per_zip\n",
       "0    14850         ITHACA            37582\n",
       "1     8204       CAPE MAY            37423\n",
       "2    94103  SAN FRANCISCO            36851\n",
       "3    78666     SAN MARCOS            35747\n",
       "4    78130  NEW BRAUNFELS            35596\n",
       "5     2657   PROVINCETOWN            34951\n",
       "6     2360       PLYMOUTH            34093\n",
       "7    92101      SAN DIEGO            33530\n",
       "8     7102         NEWARK            33437\n",
       "9    99501      ANCHORAGE            33384"
      ]
     },
     "execution_count": 65,
     "metadata": {},
     "output_type": "execute_result"
    }
   ],
   "source": [
    "pd.read_sql_query(top_10_revenue_query, con=con)"
   ]
  },
  {
   "cell_type": "markdown",
   "metadata": {},
   "source": [
    "## The query below calculates zip codes with a thousand or more numbers of food and Accommodation facilities but where chick-fil-a does not have a store. "
   ]
  },
  {
   "cell_type": "code",
   "execution_count": 45,
   "metadata": {},
   "outputs": [],
   "source": [
    "num_of_facilities = \"\"\"\n",
    "WITH national_locations\n",
    "AS\n",
    "\n",
    "(SELECT zipcode, \n",
    "SUM(num_of_establishments) as n_est_per_zip \n",
    "FROM accomodation_and_food\n",
    "GROUP by zipcode\n",
    "ORDER by n_est_per_zip  DESC),\n",
    "\n",
    "cfa_locations\n",
    "AS\n",
    "(SELECT [zip code], \n",
    "COUNT(*) AS cfa_stores_per_zip \n",
    "FROM locations\n",
    "WHERE  [zip code] NOTNULL\n",
    "GROUP by  [zip code]\n",
    "ORDER by cfa_stores_per_zip  DESC),\n",
    "cfa_vs_national\n",
    "AS\n",
    "(SELECT nt.zipcode, n_est_per_zip,ROUND((cfa_stores_per_zip *1.0/ n_est_per_zip) *100,2) as cfa_percentage_share\n",
    "FROM national_locations nt\n",
    "LEFT JOIN cfa_locations cl\n",
    "ON nt.zipcode = cl.[zip code])\n",
    "\n",
    "SELECT * FROM cfa_vs_national\n",
    "WHERE cfa_percentage_share IS NULL\n",
    "AND n_est_per_zip >= 1000\n",
    "\"\"\""
   ]
  },
  {
   "cell_type": "code",
   "execution_count": 48,
   "metadata": {},
   "outputs": [],
   "source": [
    "#cur.execute(num_of_facilities)\n",
    "#cur.fetchall()"
   ]
  },
  {
   "cell_type": "code",
   "execution_count": 50,
   "metadata": {},
   "outputs": [],
   "source": [
    "dataFrame = pd.read_sql_query(num_of_facilities, con=con)"
   ]
  },
  {
   "cell_type": "code",
   "execution_count": 53,
   "metadata": {},
   "outputs": [
    {
     "data": {
      "text/html": [
       "<div>\n",
       "<style scoped>\n",
       "    .dataframe tbody tr th:only-of-type {\n",
       "        vertical-align: middle;\n",
       "    }\n",
       "\n",
       "    .dataframe tbody tr th {\n",
       "        vertical-align: top;\n",
       "    }\n",
       "\n",
       "    .dataframe thead th {\n",
       "        text-align: right;\n",
       "    }\n",
       "</style>\n",
       "<table border=\"1\" class=\"dataframe\">\n",
       "  <thead>\n",
       "    <tr style=\"text-align: right;\">\n",
       "      <th></th>\n",
       "      <th>zipcode</th>\n",
       "      <th>n_est_per_zip</th>\n",
       "      <th>cfa_percentage_share</th>\n",
       "    </tr>\n",
       "  </thead>\n",
       "  <tbody>\n",
       "    <tr>\n",
       "      <th>0</th>\n",
       "      <td>10019</td>\n",
       "      <td>8690</td>\n",
       "      <td>None</td>\n",
       "    </tr>\n",
       "    <tr>\n",
       "      <th>1</th>\n",
       "      <td>10002</td>\n",
       "      <td>8515</td>\n",
       "      <td>None</td>\n",
       "    </tr>\n",
       "    <tr>\n",
       "      <th>2</th>\n",
       "      <td>10013</td>\n",
       "      <td>7920</td>\n",
       "      <td>None</td>\n",
       "    </tr>\n",
       "    <tr>\n",
       "      <th>3</th>\n",
       "      <td>92101</td>\n",
       "      <td>7125</td>\n",
       "      <td>None</td>\n",
       "    </tr>\n",
       "    <tr>\n",
       "      <th>4</th>\n",
       "      <td>33139</td>\n",
       "      <td>6665</td>\n",
       "      <td>None</td>\n",
       "    </tr>\n",
       "    <tr>\n",
       "      <th>5</th>\n",
       "      <td>89109</td>\n",
       "      <td>6410</td>\n",
       "      <td>None</td>\n",
       "    </tr>\n",
       "    <tr>\n",
       "      <th>6</th>\n",
       "      <td>10022</td>\n",
       "      <td>6410</td>\n",
       "      <td>None</td>\n",
       "    </tr>\n",
       "    <tr>\n",
       "      <th>7</th>\n",
       "      <td>10016</td>\n",
       "      <td>6040</td>\n",
       "      <td>None</td>\n",
       "    </tr>\n",
       "    <tr>\n",
       "      <th>8</th>\n",
       "      <td>10001</td>\n",
       "      <td>5905</td>\n",
       "      <td>None</td>\n",
       "    </tr>\n",
       "    <tr>\n",
       "      <th>9</th>\n",
       "      <td>10014</td>\n",
       "      <td>5860</td>\n",
       "      <td>None</td>\n",
       "    </tr>\n",
       "  </tbody>\n",
       "</table>\n",
       "</div>"
      ],
      "text/plain": [
       "   zipcode  n_est_per_zip cfa_percentage_share\n",
       "0    10019           8690                 None\n",
       "1    10002           8515                 None\n",
       "2    10013           7920                 None\n",
       "3    92101           7125                 None\n",
       "4    33139           6665                 None\n",
       "5    89109           6410                 None\n",
       "6    10022           6410                 None\n",
       "7    10016           6040                 None\n",
       "8    10001           5905                 None\n",
       "9    10014           5860                 None"
      ]
     },
     "execution_count": 53,
     "metadata": {},
     "output_type": "execute_result"
    }
   ],
   "source": [
    "dataFrame.head(10)"
   ]
  },
  {
   "cell_type": "markdown",
   "metadata": {},
   "source": [
    "## zip codes with 10 million or more revenue and chick-fil-a does not have a location "
   ]
  },
  {
   "cell_type": "code",
   "execution_count": 55,
   "metadata": {},
   "outputs": [],
   "source": [
    "revenue_query = \"\"\"\n",
    "WITH national_revenue\n",
    "AS\n",
    "(SELECT zipcode,city, sum(revenue) as revenue_per_zip \n",
    "from accomodation_and_food\n",
    "GROUP BY zipcode, city\n",
    "HAVING sum(revenue) >= 10000\n",
    "ORDER by revenue_per_zip DESC),\n",
    "\n",
    "cfa_locations\n",
    "AS\n",
    "(SELECT [zip code], \n",
    "COUNT(*) AS cfa_stores_per_zip \n",
    "FROM locations\n",
    "WHERE  [zip code] NOTNULL\n",
    "GROUP by  [zip code]\n",
    "ORDER by cfa_stores_per_zip  DESC),\n",
    "\n",
    "cfa_locations_per_revenue\n",
    "AS\n",
    "(SELECT na.zipcode, na.city, revenue_per_zip, cfa_stores_per_zip \n",
    "FROM national_revenue na\n",
    "LEFT JOIN cfa_locations cfa\n",
    "ON na.zipcode = cfa.[zip code])\n",
    "\n",
    "SELECT * FROM cfa_locations_per_revenue\n",
    "WHERE cfa_stores_per_zip IS NULL\n",
    "\"\"\""
   ]
  },
  {
   "cell_type": "code",
   "execution_count": 56,
   "metadata": {},
   "outputs": [],
   "source": [
    "revenue_per_zip = pd.read_sql_query(revenue_query, con=con)"
   ]
  },
  {
   "cell_type": "code",
   "execution_count": 74,
   "metadata": {},
   "outputs": [],
   "source": [
    "revenue_per_zip.head(10).to_csv(\"top_10_revenue\" \".csv\")"
   ]
  },
  {
   "cell_type": "code",
   "execution_count": null,
   "metadata": {},
   "outputs": [],
   "source": []
  }
 ],
 "metadata": {
  "kernelspec": {
   "display_name": "Python 3",
   "language": "python",
   "name": "python3"
  },
  "language_info": {
   "codemirror_mode": {
    "name": "ipython",
    "version": 3
   },
   "file_extension": ".py",
   "mimetype": "text/x-python",
   "name": "python",
   "nbconvert_exporter": "python",
   "pygments_lexer": "ipython3",
   "version": "3.8.3"
  }
 },
 "nbformat": 4,
 "nbformat_minor": 4
}
