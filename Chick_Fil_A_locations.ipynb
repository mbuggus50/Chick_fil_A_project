{
 "cells": [
  {
   "cell_type": "code",
   "execution_count": 35,
   "metadata": {},
   "outputs": [],
   "source": [
    "import dropbox\n",
    "import glob\n",
    "import pandas as pd\n",
    "from bs4 import BeautifulSoup\n",
    "import html5lib\n",
    "import os\n",
    "import re"
   ]
  },
  {
   "cell_type": "code",
   "execution_count": 17,
   "metadata": {},
   "outputs": [],
   "source": [
    "file_path = os.getcwd()"
   ]
  },
  {
   "cell_type": "code",
   "execution_count": 30,
   "metadata": {},
   "outputs": [],
   "source": [
    "def get_files(filepath):\n",
    "    \"\"\"\n",
    "    The Function takes in current directory path as a parameter and process\n",
    "    all files ending with extension .txtEach file in the directory represent \n",
    "    chick fil a locations for a given statethe function return a list of all the files processed \n",
    "    \"\"\"\n",
    "    all_files = []\n",
    "    for root, dirs, files in os.walk(filepath):\n",
    "        files = glob.glob(os.path.join(root,'*.txt'))\n",
    "        for f in files :\n",
    "            all_files.append(os.path.abspath(f))\n",
    "    \n",
    "    return all_files"
   ]
  },
  {
   "cell_type": "code",
   "execution_count": 33,
   "metadata": {},
   "outputs": [],
   "source": [
    "def data_extraction(file):\n",
    "    \"\"\"\n",
    "    the function takes in a file as a Parameter, then read\n",
    "    and extract data from the HTML tags using BeautifulSoup Library.\n",
    "    The data from one file is then Cleaned and added to a python file and returned \n",
    "    \"\"\"\n",
    "    all_data = []\n",
    "    with open(file, \"r\") as f:\n",
    "        content = f.read()\n",
    "        soup = BeautifulSoup(content, 'lxml')\n",
    "    soup.prettify()\n",
    "    rows = soup.find_all(\"p\")\n",
    "    for row in rows:\n",
    "        record = []\n",
    "        for word in row.text.strip().split(\"\\n\"):\n",
    "            if not word.isspace():\n",
    "                record.append(re.sub(\"\\s{2,}\",\" \",word.strip()))\n",
    "        all_data.append(record)\n",
    "    return all_data"
   ]
  },
  {
   "cell_type": "code",
   "execution_count": 37,
   "metadata": {},
   "outputs": [],
   "source": [
    "def merge_all(path):\n",
    "    \"\"\"\n",
    "    This function takes advantage of the above two functions to \n",
    "    process data from multiple files and merge them together into one repository\n",
    "    \"\"\"\n",
    "    merged_files = []\n",
    "    files = get_files(path)\n",
    "    for f in files:\n",
    "        locations = data_extraction(f)\n",
    "        for location in locations[1:]:\n",
    "            merged_files.append(location)\n",
    "    return merged_files"
   ]
  },
  {
   "cell_type": "code",
   "execution_count": 38,
   "metadata": {},
   "outputs": [],
   "source": [
    "data = merge_all(file_path)"
   ]
  },
  {
   "cell_type": "code",
   "execution_count": 40,
   "metadata": {},
   "outputs": [],
   "source": [
    "max_size = max([len(x) for x in data])"
   ]
  },
  {
   "cell_type": "code",
   "execution_count": 41,
   "metadata": {},
   "outputs": [],
   "source": [
    "# to ensure all files has the same number of columns\n",
    "for record in data:\n",
    "    if len(record) < max_size:\n",
    "        record.extend([\"None\"]*(max_size-len(record)))"
   ]
  },
  {
   "cell_type": "code",
   "execution_count": 42,
   "metadata": {},
   "outputs": [
    {
     "data": {
      "text/plain": [
       "3"
      ]
     },
     "execution_count": 42,
     "metadata": {},
     "output_type": "execute_result"
    }
   ],
   "source": [
    "size = [len(r) for r in data]\n",
    "max(size)"
   ]
  },
  {
   "cell_type": "code",
   "execution_count": 43,
   "metadata": {},
   "outputs": [],
   "source": [
    "columns = [\"address\", \"city\", \"State\", \"zip code\", \"telephone\"]"
   ]
  },
  {
   "cell_type": "code",
   "execution_count": 45,
   "metadata": {},
   "outputs": [],
   "source": [
    "new_data = []\n"
   ]
  },
  {
   "cell_type": "code",
   "execution_count": 46,
   "metadata": {},
   "outputs": [],
   "source": [
    "# takes merged data and create a single dataFrame\n",
    "for record in data[1:]:\n",
    "    new_record = [None] * len(columns)\n",
    "    if None not in record:\n",
    "        for i in range(len(record)):\n",
    "            if i == 1:\n",
    "                if len(record[i].strip().split(\",\")) > 1:\n",
    "                    new_record[i] = record[i].split(\",\")[0].split(\" \")[-1] # city\n",
    "                    new_record[i+1] = record[i].split(\",\")[1].strip().split(\" \")[0] # state\n",
    "                    new_record[i+2] = record[i].split(\",\")[1].strip().split(\" \")[1] # zip\n",
    "            elif i == 2:\n",
    "                new_record[i+2] = record[i]\n",
    "            else:\n",
    "                new_record[i] = record[i]\n",
    "            \n",
    "    new_data.append(new_record)\n",
    "        \n",
    "    "
   ]
  },
  {
   "cell_type": "code",
   "execution_count": 48,
   "metadata": {},
   "outputs": [],
   "source": [
    "df = pd.DataFrame(new_data, columns=columns)"
   ]
  },
  {
   "cell_type": "code",
   "execution_count": 50,
   "metadata": {},
   "outputs": [],
   "source": [
    "# save data into csv file\n",
    "df.to_csv(\"chick_fil_a_locations_data\" + \".csv\")"
   ]
  },
  {
   "cell_type": "code",
   "execution_count": 51,
   "metadata": {},
   "outputs": [
    {
     "data": {
      "text/html": [
       "<div>\n",
       "<style scoped>\n",
       "    .dataframe tbody tr th:only-of-type {\n",
       "        vertical-align: middle;\n",
       "    }\n",
       "\n",
       "    .dataframe tbody tr th {\n",
       "        vertical-align: top;\n",
       "    }\n",
       "\n",
       "    .dataframe thead th {\n",
       "        text-align: right;\n",
       "    }\n",
       "</style>\n",
       "<table border=\"1\" class=\"dataframe\">\n",
       "  <thead>\n",
       "    <tr style=\"text-align: right;\">\n",
       "      <th></th>\n",
       "      <th>city</th>\n",
       "      <th>count</th>\n",
       "    </tr>\n",
       "  </thead>\n",
       "  <tbody>\n",
       "    <tr>\n",
       "      <th>0</th>\n",
       "      <td>City</td>\n",
       "      <td>94</td>\n",
       "    </tr>\n",
       "    <tr>\n",
       "      <th>1</th>\n",
       "      <td>Atlanta</td>\n",
       "      <td>74</td>\n",
       "    </tr>\n",
       "    <tr>\n",
       "      <th>2</th>\n",
       "      <td>Beach</td>\n",
       "      <td>74</td>\n",
       "    </tr>\n",
       "    <tr>\n",
       "      <th>3</th>\n",
       "      <td>Houston</td>\n",
       "      <td>68</td>\n",
       "    </tr>\n",
       "    <tr>\n",
       "      <th>4</th>\n",
       "      <td>Charlotte</td>\n",
       "      <td>50</td>\n",
       "    </tr>\n",
       "    <tr>\n",
       "      <th>5</th>\n",
       "      <td>Park</td>\n",
       "      <td>44</td>\n",
       "    </tr>\n",
       "    <tr>\n",
       "      <th>6</th>\n",
       "      <td>Jacksonville</td>\n",
       "      <td>40</td>\n",
       "    </tr>\n",
       "    <tr>\n",
       "      <th>7</th>\n",
       "      <td>Columbia</td>\n",
       "      <td>36</td>\n",
       "    </tr>\n",
       "    <tr>\n",
       "      <th>8</th>\n",
       "      <td>Dallas</td>\n",
       "      <td>36</td>\n",
       "    </tr>\n",
       "    <tr>\n",
       "      <th>9</th>\n",
       "      <td>Springs</td>\n",
       "      <td>34</td>\n",
       "    </tr>\n",
       "  </tbody>\n",
       "</table>\n",
       "</div>"
      ],
      "text/plain": [
       "           city  count\n",
       "0          City     94\n",
       "1       Atlanta     74\n",
       "2         Beach     74\n",
       "3       Houston     68\n",
       "4     Charlotte     50\n",
       "5          Park     44\n",
       "6  Jacksonville     40\n",
       "7      Columbia     36\n",
       "8        Dallas     36\n",
       "9       Springs     34"
      ]
     },
     "execution_count": 51,
     "metadata": {},
     "output_type": "execute_result"
    }
   ],
   "source": [
    "df.groupby(['city'])['address'].count().nlargest(10).reset_index(name=\"count\")"
   ]
  },
  {
   "cell_type": "code",
   "execution_count": null,
   "metadata": {},
   "outputs": [],
   "source": []
  }
 ],
 "metadata": {
  "kernelspec": {
   "display_name": "Python 3",
   "language": "python",
   "name": "python3"
  },
  "language_info": {
   "codemirror_mode": {
    "name": "ipython",
    "version": 3
   },
   "file_extension": ".py",
   "mimetype": "text/x-python",
   "name": "python",
   "nbconvert_exporter": "python",
   "pygments_lexer": "ipython3",
   "version": "3.8.3"
  }
 },
 "nbformat": 4,
 "nbformat_minor": 4
}
